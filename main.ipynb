{
 "cells": [
  {
   "cell_type": "markdown",
   "source": [
    "# Taichi implementation for Fluid Simulation\n",
    "\n",
    "## Algorithm Overview\n",
    "\n",
    "1. Initialize Grid with some Fluid\n",
    "2. for ( i from 1 to n )\n",
    "3. Let $t = 0.0$\n",
    "- While $t<t_{frame}$\n",
    "- - Calculate $\\Delta t$\n",
    "- - Advect Fluid\n",
    "- - Pressure Projection (Pressure Solve)\n",
    "- - Advect Free Surface\n",
    "- - $t = t + \\Delta t$\n",
    "- Write frame i\n"
   ],
   "metadata": {
    "collapsed": false
   },
   "id": "f460ccf85e0ed589"
  },
  {
   "cell_type": "markdown",
   "source": [
    "---\n",
    "## 0. Configurations\n",
    "---"
   ],
   "metadata": {
    "collapsed": false
   },
   "id": "f3dee71d2c3a9ed0"
  },
  {
   "cell_type": "code",
   "outputs": [
    {
     "name": "stdout",
     "output_type": "stream",
     "text": [
      "[Taichi] version 1.7.0, llvm 15.0.1, commit 2fd24490, win, python 3.10.11\n",
      "[Taichi] Starting on arch=vulkan\n"
     ]
    }
   ],
   "source": [
    "from taichi.examples.patterns import taichi_logo\n",
    "\n",
    "import taichi as ti\n",
    "import taichi.math as tm\n",
    "\n",
    "ti.init(arch=ti.gpu)\n",
    "#####################\n",
    "#   Simulation parameters\n",
    "#####################\n",
    "eulerSimParam = {\n",
    "    \"shape\": [512, 512],\n",
    "    \"dt\": 1 / 60.0,\n",
    "    \"iteration_step\": 20,\n",
    "    \"mouse_radius\": 0.01,  # [0.0,1.0] float\n",
    "    \"mouse_speed\": 125.0,\n",
    "    \"mouse_respondDistance\": 0.5,  # for every frame, only half the trace of the mouse will influence water\n",
    "    \"curl_param\": 15,\n",
    "}\n",
    "\n",
    "\n",
    "#   Double Buffer\n",
    "class TexPair:\n",
    "    def __init__(self, cur, nxt):\n",
    "        self.cur = cur\n",
    "        self.nxt = nxt\n",
    "\n",
    "    def swap(self):\n",
    "        self.cur, self.nxt = self.nxt, self.cur\n",
    "        \n",
    "velocityField = ti.Vector.field(2, float, shape=(eulerSimParam[\"shape\"]))\n",
    "_new_velocityField = ti.Vector.field(2, float, shape=(eulerSimParam[\"shape\"]))\n",
    "colorField = ti.Vector.field(3, float, shape=(eulerSimParam[\"shape\"]))\n",
    "_new_colorField = ti.Vector.field(3, float, shape=(eulerSimParam[\"shape\"]))\n",
    "\n",
    "curlField = ti.field(float, shape=(eulerSimParam[\"shape\"]))\n",
    "\n",
    "divField = ti.field(float, shape=(eulerSimParam[\"shape\"]))\n",
    "pressField = ti.field(float, shape=(eulerSimParam[\"shape\"]))\n",
    "_new_pressField = ti.field(float, shape=(eulerSimParam[\"shape\"]))\n",
    "\n",
    "velocities_pair = TexPair(velocityField, _new_velocityField)\n",
    "pressure_pair = TexPair(pressField, _new_pressField)\n",
    "color_pair = TexPair(colorField, _new_colorField)"
   ],
   "metadata": {
    "collapsed": false,
    "ExecuteTime": {
     "end_time": "2024-03-05T22:02:16.575201400Z",
     "start_time": "2024-03-05T22:02:15.740090500Z"
    }
   },
   "id": "b1b04a5921091a0",
   "execution_count": 1
  },
  {
   "cell_type": "markdown",
   "source": [
    "---\n",
    "## 1. Linear Interpolation and Bilinear Interpolation\n",
    "---"
   ],
   "metadata": {
    "collapsed": false
   },
   "id": "f92412bda3cdff42"
  },
  {
   "cell_type": "code",
   "outputs": [],
   "source": [
    "#####################\n",
    "#   Bilinear Interpolation function\n",
    "#####################\n",
    "@ti.func\n",
    "def sample(vf, u, v, shape):\n",
    "    i, j = int(u), int(v)\n",
    "    # Nearest\n",
    "    i = ti.max(0, ti.min(shape[0] - 1, i))\n",
    "    j = ti.max(0, ti.min(shape[1] - 1, j))\n",
    "    return vf[i, j]\n",
    "\n",
    "\n",
    "@ti.func\n",
    "def lerp(vl, vr, frac):\n",
    "    # frac: [0.0, 1.0]\n",
    "    return (1 - frac) * vl + frac * vr\n",
    "\n",
    "\n",
    "@ti.func\n",
    "def bilerp(vf, u, v, shape):\n",
    "    # use -0.5 to decide where bilerp performs in cells\n",
    "    s, t = u - 0.5, v - 0.5\n",
    "    iu, iv = int(s), int(t)\n",
    "    a = sample(vf, iu + 0.5, iv + 0.5, shape)\n",
    "    b = sample(vf, iu + 1.5, iv + 0.5, shape)\n",
    "    c = sample(vf, iu + 0.5, iv + 1.5, shape)\n",
    "    d = sample(vf, iu + 1.5, iv + 1.5, shape)\n",
    "    # fract\n",
    "    fu, fv = s - iu, t - iv\n",
    "    return lerp(lerp(a, b, fu), lerp(c, d, fu), fv)"
   ],
   "metadata": {
    "collapsed": false,
    "ExecuteTime": {
     "end_time": "2024-03-05T22:02:21.739713600Z",
     "start_time": "2024-03-05T22:02:21.726710700Z"
    }
   },
   "id": "b78607978322b253",
   "execution_count": 2
  },
  {
   "cell_type": "markdown",
   "source": [
    "---\n",
    "## 2. Advection\n",
    "---\n",
    "Advection can be informally described as follows: \"Given some quantity $Q$ on our simulation grid, how will $Q$ change $\\Delta t$ later?\"\n",
    "Therefore, we have:\n",
    "$$Q^{n+1}=\\text{advect}(Q^n,\\Delta t, \\frac{\\partial Q^n}{\\partial t})$$\n",
    "### Forward Euler\n",
    "In the code below, *Forward Euler* time integrator is used, which consists of three steps:\n",
    "1. Calculate $-\\frac{\\partial Q}{\\partial t}$\n",
    "2. Sample position $\\vec{X} = Q(i, j)$ \n",
    "3. Calculate $\\vec{X}_{prev} = \\vec{X} - \\frac{\\partial Q}{\\partial t}*\\Delta t$\n",
    "4. Set the gridpoint for $Q^{n+1}(i,j):=Q(i,j)$ that is nearest to $\\vec{X}_{prev}$\n",
    "\n",
    "We can consider using more accurate time integrator, such as RK-2 or implicit euler."
   ],
   "metadata": {
    "collapsed": false
   },
   "id": "b4334eb5c54ba032"
  },
  {
   "cell_type": "code",
   "outputs": [],
   "source": [
    "@ti.kernel\n",
    "def advection(vf: ti.template(), qf: ti.template(), new_qf: ti.template()):\n",
    "    for i, j in vf:\n",
    "        coord_cur = ti.Vector([i, j]) + ti.Vector([0.5, 0.5])\n",
    "        vel_cur = vf[i, j]\n",
    "        coord_prev = coord_cur - vel_cur * eulerSimParam[\"dt\"]\n",
    "        q_prev = bilerp(qf, coord_prev[0], coord_prev[1], (eulerSimParam[\"shape\"]))\n",
    "        new_qf[i, j] = q_prev"
   ],
   "metadata": {
    "collapsed": false,
    "ExecuteTime": {
     "end_time": "2024-03-05T22:02:44.222029300Z",
     "start_time": "2024-03-05T22:02:44.211766600Z"
    }
   },
   "id": "f950f975da68b605",
   "execution_count": 4
  },
  {
   "cell_type": "markdown",
   "source": [
    "---\n",
    "## 3. **Lagrangian** v.s. **Eulerian**\n",
    "---\n",
    "[<a href=\"https://www.youtube.com/watch?v=0Vp0wU7czBM\">reference</a>]\n",
    "By default, **Navier-Stokes** equation is defined in **Lagrangian** viewpoint, which is based on particle movements:\n",
    "$$\\frac{d\\vec{u}}{dt}=\\vec{g}-\\frac{1}{\\rho}\\nabla p+\\nu\\nabla\\cdot\\nabla\\vec{u}$$ \n",
    "For each particle $p=p(x,y,z,t)$, it has velocity $u=u(x,y,z,t)$ and acceleration $a_{\\text{particle}}=\\frac{d\\vec{u}}{dt}=a_{\\text{particle}}(x,y,z,t)$\n",
    "For **Eulerian** viewpoint, the volume domain is fixed, which means point of reference is stationary:\n",
    "$$\\vec{a}(x,y,z,t)=\\vec{a}_{\\text{particle}}(x,y,z,t)$$\n",
    "This equation says the acceleration field at this location and time(**Eulerian** viewpoint) equals to the acceleration of the fluid particle occupying this location at this time(**Lagrangian** viewpoint). \n",
    "Therefore, the acceleration at a field variable (**Eulerian** description) can be calculated as:\n",
    "$$\\vec{a}(x,y,z,t)=\\frac{d\\vec{u}}{dt}=\\frac{\\partial\\vec{u}}{\\partial t}+\\frac{\\partial\\vec{u}}{\\partial x}\\frac{\\partial x}{\\partial t}+\\frac{\\partial\\vec{u}}{\\partial y}\\frac{\\partial y}{\\partial t}+\\frac{\\partial\\vec{u}}{\\partial z}\\frac{\\partial z}{\\partial t}$$\n",
    "which can be simplified as\n",
    "$$\\vec{a}=\\frac{D\\vec{u}}{Dt}=\\frac{\\partial\\vec{u}}{\\partial t}+(\\vec{u}\\cdot\\vec{\\nabla})\\vec{u}$$\n",
    "### Material Derivative\n",
    "Material derivative $\\frac{DQ}{Dt}$ is a general form of the acceleration of Eulerian description:\n",
    "$$\\frac{DQ}{Dt}=\\frac{\\partial Q}{\\partial t}+\\vec{u}\\cdot\\nabla Q$$\n",
    "For this equation, we have $Q = Q(x,y,z,t)$, the quantity at a blob of fluid moving with $\\vec{u}$, and $\\nabla Q= \\left[\\frac{\\partial Q}{\\partial x},\\frac{\\partial Q}{\\partial y},\\frac{\\partial Q}{\\partial z}\\right]$. $\\frac{\\partial Q}{\\partial t}$ is the local change due to unsteadiness(related with changes in time). $\\vec{u}\\cdot\\nabla Q$ is the change due to movement to a different part of the flow(related with changes in position). This means we can have acceleration in a steady flow.\n",
    "Therefore, for Navier Stokes equation \n",
    "$$\\frac{D\\vec{u}}{Dt}=\\vec{g}-\\frac{1}{\\rho}\\nabla p+\\nu\\nabla\\cdot\\nabla\\vec{u}$$ \n",
    "yields the standard form of the momentum equation:\n",
    "$$\\frac{\\partial\\vec{u}}{\\partial t}=-\\vec{u}\\cdot\\nabla\\vec{u}+\\vec{g}-\\frac{1}{\\rho}\\nabla p+\\nu\\nabla\\cdot\\nabla\\vec{u}$$"
   ],
   "metadata": {
    "collapsed": false
   },
   "id": "8184a076b380b324"
  },
  {
   "cell_type": "code",
   "outputs": [],
   "source": [
    "def advection_step():\n",
    "    advection(velocities_pair.cur, color_pair.cur, color_pair.nxt)\n",
    "    advection(velocities_pair.cur, velocities_pair.cur, velocities_pair.nxt)\n",
    "    color_pair.swap()\n",
    "    velocities_pair.swap()\n",
    "    apply_vel_bc(velocities_pair.cur)"
   ],
   "metadata": {
    "collapsed": false
   },
   "id": "511650748abaa7c4"
  }
 ],
 "metadata": {
  "kernelspec": {
   "display_name": "Python 3",
   "language": "python",
   "name": "python3"
  },
  "language_info": {
   "codemirror_mode": {
    "name": "ipython",
    "version": 2
   },
   "file_extension": ".py",
   "mimetype": "text/x-python",
   "name": "python",
   "nbconvert_exporter": "python",
   "pygments_lexer": "ipython2",
   "version": "2.7.6"
  }
 },
 "nbformat": 4,
 "nbformat_minor": 5
}
